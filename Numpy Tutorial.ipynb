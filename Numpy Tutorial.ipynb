{
 "cells": [
  {
   "cell_type": "code",
   "execution_count": 1,
   "id": "9e33a3f7",
   "metadata": {},
   "outputs": [],
   "source": [
    "from numpy import *"
   ]
  },
  {
   "cell_type": "code",
   "execution_count": 57,
   "id": "5f94569a",
   "metadata": {},
   "outputs": [
    {
     "name": "stdout",
     "output_type": "stream",
     "text": [
      "-0.9880316240928618 0.15425144988758405 -6.405331196646276\n"
     ]
    }
   ],
   "source": [
    "# Ideal functions deal with redian not degrees.\n",
    "a = sin(30)\n",
    "b = cos(30)\n",
    "c = tan(30)\n",
    "print(a,b,c)"
   ]
  },
  {
   "cell_type": "code",
   "execution_count": 60,
   "id": "57357d99",
   "metadata": {},
   "outputs": [
    {
     "name": "stdout",
     "output_type": "stream",
     "text": [
      "0.49999999999999994\n",
      "0.8660254037844387\n",
      "0.5773502691896257\n"
     ]
    }
   ],
   "source": [
    "a = sin(30*pi/180)\n",
    "b = cos(30*pi/180)\n",
    "c = tan(30*pi/180)\n",
    "print(a)\n",
    "print(b) \n",
    "print(c)"
   ]
  },
  {
   "cell_type": "code",
   "execution_count": 61,
   "id": "34b588a2",
   "metadata": {},
   "outputs": [
    {
     "name": "stdout",
     "output_type": "stream",
     "text": [
      "4\n",
      "3.7\n",
      "3.39\n",
      "3.585\n"
     ]
    }
   ],
   "source": [
    "# ٌRounding.\n",
    "a = round(3.68528)\n",
    "b = round(3.68528,1)\n",
    "c = round(3.38528,2)\n",
    "d = round(3.58528,3)\n",
    "print(a)\n",
    "print(b)\n",
    "print(c)\n",
    "print(d)"
   ]
  },
  {
   "cell_type": "code",
   "execution_count": 62,
   "id": "4776c154",
   "metadata": {},
   "outputs": [
    {
     "name": "stdout",
     "output_type": "stream",
     "text": [
      "3.0\n",
      "4.0\n"
     ]
    }
   ],
   "source": [
    "# Rounding higher(ceil) or lower (floor).\n",
    "a = floor(3.68528) \n",
    "b = ceil(3.38528)\n",
    "print(a)\n",
    "print(b)"
   ]
  },
  {
   "cell_type": "code",
   "execution_count": 63,
   "id": "dcd45ee8",
   "metadata": {},
   "outputs": [
    {
     "name": "stdout",
     "output_type": "stream",
     "text": [
      "6\n",
      "32\n"
     ]
    }
   ],
   "source": [
    "# mod for modulas.\n",
    "a = mod(20,7) \n",
    "b = power(2,5)\n",
    "print(a) \n",
    "print(b)"
   ]
  },
  {
   "cell_type": "code",
   "execution_count": 64,
   "id": "13c82b0c",
   "metadata": {},
   "outputs": [
    {
     "name": "stdout",
     "output_type": "stream",
     "text": [
      "[2, 3, 6, 5, 4, 7, 8]\n",
      "[2 3 6 5 4 7 8]\n"
     ]
    }
   ],
   "source": [
    "# Use array function to convert list to matrix.\n",
    "a = [2,3,6,5,4,7,8]\n",
    "b = array(a)\n",
    "print(a)\n",
    "print(b)"
   ]
  },
  {
   "cell_type": "code",
   "execution_count": 65,
   "id": "dae6fb6e",
   "metadata": {},
   "outputs": [
    {
     "name": "stdout",
     "output_type": "stream",
     "text": [
      "[[1, 2, 3], [5, 3, 6], [9, 6, 5]]\n",
      "[[1 2 3]\n",
      " [5 3 6]\n",
      " [9 6 5]]\n"
     ]
    }
   ],
   "source": [
    "# matrix (3,3).\n",
    "a = [[1,2,3],[5,3,6],[9,6,5]]\n",
    "b = array(a)\n",
    "print(a)\n",
    "print(b)"
   ]
  },
  {
   "cell_type": "code",
   "execution_count": 66,
   "id": "2d889339",
   "metadata": {},
   "outputs": [
    {
     "name": "stdout",
     "output_type": "stream",
     "text": [
      "[[2 3 4]\n",
      " [4 5 6]\n",
      " [6 7 8]]\n"
     ]
    }
   ],
   "source": [
    "# Use range to make matrix.\n",
    "a = array([range(i, i + 3)\n",
    "for i in [2, 4, 6]])\n",
    "print(a)"
   ]
  },
  {
   "cell_type": "code",
   "execution_count": 67,
   "id": "fefa6f95",
   "metadata": {},
   "outputs": [
    {
     "name": "stdout",
     "output_type": "stream",
     "text": [
      "[('x', 3, 4.2) ('y', 4, 5.3) ('z', 5, 6.3)]\n"
     ]
    }
   ],
   "source": [
    "# Defination of Variables.\n",
    "a = array([('x',3,4.2),('y',4,5.3),('z',5,6.3)],\n",
    "          dtype = [('name','U5'),('number','i2'),('value','f4')])\n",
    "print(a)"
   ]
  },
  {
   "cell_type": "code",
   "execution_count": 68,
   "id": "b1b71fa2",
   "metadata": {},
   "outputs": [
    {
     "name": "stdout",
     "output_type": "stream",
     "text": [
      "[[2.12199579e-314 6.36598737e-314 1.06099790e-313]\n",
      " [1.48539705e-313 1.90979621e-313 2.33419537e-313]]\n"
     ]
    }
   ],
   "source": [
    "# Empty matrix.\n",
    "a = empty((2,3)) # 2 is number of rows , 3 is number of columns.\n",
    "print(a)"
   ]
  },
  {
   "cell_type": "code",
   "execution_count": 69,
   "id": "568f431f",
   "metadata": {},
   "outputs": [
    {
     "name": "stdout",
     "output_type": "stream",
     "text": [
      "5.275717387762862\n",
      "-------------------------\n",
      "[4.63539967 5.78838532 7.43305094 6.77817172 7.81705517 1.55028282\n",
      " 2.54378481 7.25404858 7.24207275 9.46109042 3.33753785 4.29002392\n",
      " 8.5191932  5.21005267 7.88533115 4.50257674 9.22414167 2.49807775\n",
      " 5.51172799 5.02788698]\n",
      "-------------------------\n"
     ]
    }
   ],
   "source": [
    "# Uniform function: Random value.\n",
    "a = random.uniform(1,10)\n",
    "b = random.uniform(1,10,20)\n",
    "print(a)\n",
    "print('-------------------------')\n",
    "print(b)\n",
    "print('-------------------------')"
   ]
  },
  {
   "cell_type": "code",
   "execution_count": 70,
   "id": "2f0dd138",
   "metadata": {},
   "outputs": [
    {
     "name": "stdout",
     "output_type": "stream",
     "text": [
      "[4.6353996727964955, 5.788385315410977, 7.433050943707513, 6.7781717218312565, 7.817055173005205, 1.5502828185384216, 2.5437848140445656, 7.254048584920625, 7.242072745642831, 9.461090424508594, 3.337537852222976, 4.290023919473347, 8.519193200714522, 5.210052670478994, 7.885331153802053, 4.502576736530578, 9.224141673918814, 2.498077749659318, 5.511727988829841, 5.02788697712487]\n"
     ]
    }
   ],
   "source": [
    "# Convert to list.\n",
    "c = list(b)\n",
    "print(c)"
   ]
  },
  {
   "cell_type": "code",
   "execution_count": 71,
   "id": "6eb0c0f7",
   "metadata": {},
   "outputs": [
    {
     "name": "stdout",
     "output_type": "stream",
     "text": [
      "[[0.29145045 0.43762688 0.79983274]\n",
      " [0.56609945 0.00187106 0.34476896]]\n"
     ]
    }
   ],
   "source": [
    "# Make a matrix with random values between 0,1\n",
    "a = random.random((2,3))\n",
    "print(a)"
   ]
  },
  {
   "cell_type": "code",
   "execution_count": 72,
   "id": "c1adc988",
   "metadata": {},
   "outputs": [
    {
     "name": "stdout",
     "output_type": "stream",
     "text": [
      "[-0.61959543 -0.31571111  0.92124655  0.44682556  0.00390882  0.00326794\n",
      " -0.41694023 -0.4375525   1.03067883  1.74138305]\n"
     ]
    }
   ],
   "source": [
    "# Normal function: it distribute normally between 0,1 (10 times).\n",
    "a = random.normal(0,1,10)\n",
    "print(a)"
   ]
  },
  {
   "cell_type": "code",
   "execution_count": 73,
   "id": "febe59f8",
   "metadata": {},
   "outputs": [
    {
     "name": "stdout",
     "output_type": "stream",
     "text": [
      "66\n"
     ]
    }
   ],
   "source": [
    "# RandInt function: get any integer value between 0,150\n",
    "a = random.randint(150)\n",
    "print(a)"
   ]
  },
  {
   "cell_type": "code",
   "execution_count": 74,
   "id": "981043b7",
   "metadata": {},
   "outputs": [
    {
     "name": "stdout",
     "output_type": "stream",
     "text": [
      "[2 0 3 2 2 3 3]\n"
     ]
    }
   ],
   "source": [
    "# Get any integer value between 0,5 (7 times).\n",
    "a = random.randint(5, size=7)\n",
    "print(a)"
   ]
  },
  {
   "cell_type": "code",
   "execution_count": 75,
   "id": "bf213180",
   "metadata": {},
   "outputs": [
    {
     "name": "stdout",
     "output_type": "stream",
     "text": [
      "[17  6 19  9  6 17 19]\n"
     ]
    }
   ],
   "source": [
    "# Get any integer value between 5,20 (7 times).\n",
    "a = random.randint(5,20, size=7) \n",
    "print(a)"
   ]
  },
  {
   "cell_type": "code",
   "execution_count": 76,
   "id": "cb7eee12",
   "metadata": {},
   "outputs": [
    {
     "name": "stdout",
     "output_type": "stream",
     "text": [
      "[[0 4 8]\n",
      " [3 4 9]\n",
      " [4 0 2]]\n"
     ]
    }
   ],
   "source": [
    "# Get any integer value between 0,10\n",
    "a = random.randint(0, 10, (3, 3))\n",
    "print(a)"
   ]
  },
  {
   "cell_type": "code",
   "execution_count": 77,
   "id": "4053eada",
   "metadata": {},
   "outputs": [
    {
     "name": "stdout",
     "output_type": "stream",
     "text": [
      "[[[8 5 9 9 6]\n",
      "  [7 8 8 6 7]\n",
      "  [6 5 7 7 5]\n",
      "  [9 8 5 6 5]]\n",
      "\n",
      " [[5 5 9 7 8]\n",
      "  [9 5 9 8 8]\n",
      "  [9 5 9 7 6]\n",
      "  [6 7 8 7 7]]\n",
      "\n",
      " [[6 9 8 8 7]\n",
      "  [9 6 6 7 9]\n",
      "  [6 8 6 5 7]\n",
      "  [6 6 7 9 9]]]\n"
     ]
    }
   ],
   "source": [
    "# Get any integer value between 5,10 (3 matrices) be (4,5). \n",
    "a = random.randint(5,10, size=(3, 4, 5)) \n",
    "print(a)"
   ]
  },
  {
   "cell_type": "code",
   "execution_count": 78,
   "id": "2af5f37a",
   "metadata": {},
   "outputs": [
    {
     "name": "stdout",
     "output_type": "stream",
     "text": [
      "[16 20 39 53  2  2 54 16 28 30 33 37 26 53 27 18 16 36 35 30 33  1  4 30\n",
      " 51]\n",
      "[[16 20 39 53  2]\n",
      " [ 2 54 16 28 30]\n",
      " [33 37 26 53 27]\n",
      " [18 16 36 35 30]\n",
      " [33  1  4 30 51]]\n"
     ]
    }
   ],
   "source": [
    "# Get any integer value between 1,60 (25 times) then reshape it to matrix (5,5).\n",
    "a = random.randint(1,60,25)\n",
    "b = reshape(a,(5,5))\n",
    "print(a)\n",
    "print(b)"
   ]
  },
  {
   "cell_type": "code",
   "execution_count": 79,
   "id": "a3d5e94f",
   "metadata": {},
   "outputs": [
    {
     "name": "stdout",
     "output_type": "stream",
     "text": [
      "[0.60723448 0.6476839  0.45386926 0.91109513 0.23313707 0.83870361\n",
      " 0.22066304 0.72834021 0.50829794 0.77827276 0.82927491 0.84496405\n",
      " 0.05530003 0.50386149 0.01478985]\n"
     ]
    }
   ],
   "source": [
    "# Random numbers (15 times).\n",
    "a = random.rand(15) \n",
    "print(a)"
   ]
  },
  {
   "cell_type": "code",
   "execution_count": 80,
   "id": "211c8a2b",
   "metadata": {},
   "outputs": [
    {
     "name": "stdout",
     "output_type": "stream",
     "text": [
      "[[0.14991841 0.12427026 0.14254606]\n",
      " [0.79766841 0.78547135 0.63473452]\n",
      " [0.81838346 0.56652475 0.18352945]\n",
      " [0.93592573 0.0148192  0.39902046]\n",
      " [0.40424027 0.75779562 0.09942307]]\n"
     ]
    }
   ],
   "source": [
    "# Random numbers with matrix (5,3).\n",
    "a = random.rand(5,3)\n",
    "print(a)"
   ]
  },
  {
   "cell_type": "code",
   "execution_count": 81,
   "id": "bf8ac462",
   "metadata": {},
   "outputs": [
    {
     "name": "stdout",
     "output_type": "stream",
     "text": [
      "[[[0.41033242 0.7063434 ]\n",
      "  [0.41835544 0.2946406 ]\n",
      "  [0.34891864 0.32090821]]\n",
      "\n",
      " [[0.84334964 0.11561896]\n",
      "  [0.20821223 0.65260843]\n",
      "  [0.49671581 0.49851679]]\n",
      "\n",
      " [[0.90722532 0.17389357]\n",
      "  [0.47878829 0.2980763 ]\n",
      "  [0.77001445 0.48372405]]\n",
      "\n",
      " [[0.50155482 0.810997  ]\n",
      "  [0.40492765 0.73075129]\n",
      "  [0.12635451 0.39579616]]\n",
      "\n",
      " [[0.66876419 0.92606162]\n",
      "  [0.17085335 0.15613766]\n",
      "  [0.52361056 0.3127123 ]]]\n"
     ]
    }
   ],
   "source": [
    "# Random numbers with 5 matrices (3,2).\n",
    "a = random.rand(5,3,2)\n",
    "print(a)"
   ]
  },
  {
   "cell_type": "code",
   "execution_count": 82,
   "id": "5da89838",
   "metadata": {},
   "outputs": [
    {
     "name": "stdout",
     "output_type": "stream",
     "text": [
      "5\n"
     ]
    }
   ],
   "source": [
    "# Choice function choose any value of given list.\n",
    "y=[1,2,3,6,9,8,5,4,7,8,9,6,5,9,6]\n",
    "a = random.choice(y)\n",
    "print(a)"
   ]
  },
  {
   "cell_type": "code",
   "execution_count": 83,
   "id": "0ee9c959",
   "metadata": {},
   "outputs": [
    {
     "name": "stdout",
     "output_type": "stream",
     "text": [
      "[9 2 6 6 8]\n"
     ]
    }
   ],
   "source": [
    "# Choice function choose any value of given list 5 times.\n",
    "y=[1,2,3,6,9,8,5,4,7,8,9,6,5,9,6]\n",
    "a = random.choice(y,size=5)\n",
    "print(a)"
   ]
  },
  {
   "cell_type": "code",
   "execution_count": 84,
   "id": "7d8a497b",
   "metadata": {},
   "outputs": [
    {
     "name": "stdout",
     "output_type": "stream",
     "text": [
      "[1, 2, 3, 6, 9, 8, 5, 4, 7, 8, 9, 6, 5, 9, 6]\n",
      "[6, 8, 5, 6, 9, 9, 3, 1, 8, 2, 7, 4, 9, 5, 6]\n"
     ]
    }
   ],
   "source": [
    "# Shuffle function make a random changes in given list.\n",
    "y=[1,2,3,6,9,8,5,4,7,8,9,6,5,9,6]\n",
    "print(y)\n",
    "random.shuffle(y)\n",
    "print(y)"
   ]
  },
  {
   "cell_type": "code",
   "execution_count": 85,
   "id": "9bae7862",
   "metadata": {},
   "outputs": [
    {
     "name": "stdout",
     "output_type": "stream",
     "text": [
      "[0. 0. 0. 0. 0. 0. 0. 0.]\n",
      "[1. 1. 1. 1. 1. 1. 1. 1. 1. 1.]\n"
     ]
    }
   ],
   "source": [
    "# Zeros function makes 8 zeros in matrix(1,0).\n",
    "# Ones function makes 10 ones in matrix(1,0).\n",
    "a = zeros(8)\n",
    "b = ones(10)\n",
    "print(a)\n",
    "print(b)"
   ]
  },
  {
   "cell_type": "code",
   "execution_count": 86,
   "id": "11c6203d",
   "metadata": {},
   "outputs": [
    {
     "name": "stdout",
     "output_type": "stream",
     "text": [
      "[[0. 0. 0. 0. 0.]\n",
      " [0. 0. 0. 0. 0.]\n",
      " [0. 0. 0. 0. 0.]]\n",
      "[[1. 1. 1. 1. 1. 1. 1. 1.]\n",
      " [1. 1. 1. 1. 1. 1. 1. 1.]\n",
      " [1. 1. 1. 1. 1. 1. 1. 1.]\n",
      " [1. 1. 1. 1. 1. 1. 1. 1.]\n",
      " [1. 1. 1. 1. 1. 1. 1. 1.]\n",
      " [1. 1. 1. 1. 1. 1. 1. 1.]]\n"
     ]
    }
   ],
   "source": [
    "# Zeros function makes 10 zeros in matrix(3,5).\n",
    "# Ones function makes 10 ones in matrix(6,8).\n",
    "a = zeros((3,5))\n",
    "b = ones((6,8))\n",
    "print(a)\n",
    "print(b)"
   ]
  },
  {
   "cell_type": "code",
   "execution_count": 87,
   "id": "71f96223",
   "metadata": {},
   "outputs": [
    {
     "name": "stdout",
     "output_type": "stream",
     "text": [
      "[[[0. 0.]\n",
      "  [0. 0.]\n",
      "  [0. 0.]]\n",
      "\n",
      " [[0. 0.]\n",
      "  [0. 0.]\n",
      "  [0. 0.]]]\n",
      "[[[1. 1.]\n",
      "  [1. 1.]\n",
      "  [1. 1.]]\n",
      "\n",
      " [[1. 1.]\n",
      "  [1. 1.]\n",
      "  [1. 1.]]]\n"
     ]
    }
   ],
   "source": [
    "# Zeros function makes 10 zeros in 2 matrices(3,2).\n",
    "# Ones function makes 10 ones in 2 matrices(3,2).\n",
    "a = zeros((2,3,2))\n",
    "b = ones((2,3,2))\n",
    "print(a)\n",
    "print(b)"
   ]
  },
  {
   "cell_type": "code",
   "execution_count": 89,
   "id": "5dc10adf",
   "metadata": {},
   "outputs": [
    {
     "name": "stdout",
     "output_type": "stream",
     "text": [
      "[[1. 0. 0. 0. 0.]\n",
      " [0. 1. 0. 0. 0.]\n",
      " [0. 0. 1. 0. 0.]\n",
      " [0. 0. 0. 1. 0.]\n",
      " [0. 0. 0. 0. 1.]]\n"
     ]
    }
   ],
   "source": [
    "# Eye function : Makes a matrix with given number (5,5)zeros ,then makes ones in inner diagonals.\n",
    "a = eye(5)\n",
    "print(a)"
   ]
  },
  {
   "cell_type": "code",
   "execution_count": 90,
   "id": "5356eff5",
   "metadata": {},
   "outputs": [
    {
     "name": "stdout",
     "output_type": "stream",
     "text": [
      "[[35 35 35 35 35]\n",
      " [35 35 35 35 35]\n",
      " [35 35 35 35 35]]\n"
     ]
    }
   ],
   "source": [
    "# Full function : makes a matrix(3,5) with a given number(35).\n",
    "a = full((3, 5), 35)\n",
    "print(a)"
   ]
  },
  {
   "cell_type": "code",
   "execution_count": 91,
   "id": "7c69357d",
   "metadata": {},
   "outputs": [
    {
     "name": "stdout",
     "output_type": "stream",
     "text": [
      "[[ 0  1  2  3  4  5]\n",
      " [ 6  7  8  9 10 11]\n",
      " [12 13 14 15 16 17]]\n",
      "[[[ 0  1  2]\n",
      "  [ 3  4  5]\n",
      "  [ 6  7  8]]\n",
      "\n",
      " [[ 9 10 11]\n",
      "  [12 13 14]\n",
      "  [15 16 17]]\n",
      "\n",
      " [[18 19 20]\n",
      "  [21 22 23]\n",
      "  [24 25 26]]]\n"
     ]
    }
   ],
   "source": [
    "# Arrange function : arrange from 0 to given number(18),(27).\n",
    "# Writes a matrix with a given dimension(3,6),(3,3)3 times.\n",
    "a = arange(18).reshape(3,6)\n",
    "b = arange(27).reshape(3,3,3)\n",
    "print(a)\n",
    "print(b)"
   ]
  },
  {
   "cell_type": "code",
   "execution_count": 92,
   "id": "5deb65a6",
   "metadata": {},
   "outputs": [
    {
     "name": "stdout",
     "output_type": "stream",
     "text": [
      "[ 0.          0.6122449   1.2244898   1.83673469  2.44897959  3.06122449\n",
      "  3.67346939  4.28571429  4.89795918  5.51020408  6.12244898  6.73469388\n",
      "  7.34693878  7.95918367  8.57142857  9.18367347  9.79591837 10.40816327\n",
      " 11.02040816 11.63265306 12.24489796 12.85714286 13.46938776 14.08163265\n",
      " 14.69387755 15.30612245 15.91836735 16.53061224 17.14285714 17.75510204\n",
      " 18.36734694 18.97959184 19.59183673 20.20408163 20.81632653 21.42857143\n",
      " 22.04081633 22.65306122 23.26530612 23.87755102 24.48979592 25.10204082\n",
      " 25.71428571 26.32653061 26.93877551 27.55102041 28.16326531 28.7755102\n",
      " 29.3877551  30.        ]\n",
      "[  0.  25.  50.  75. 100.]\n"
     ]
    }
   ],
   "source": [
    "# write a numbers that distributed equally between given numbers(0,30) 50 times ,and (0,100) 5 times. \n",
    "b =linspace(0,30)\n",
    "c =linspace(0,100,5)\n",
    "print(b)\n",
    "print(c)"
   ]
  },
  {
   "cell_type": "code",
   "execution_count": 93,
   "id": "3d0e80b0",
   "metadata": {},
   "outputs": [
    {
     "name": "stdout",
     "output_type": "stream",
     "text": [
      "[[ 0.          2.72727273  5.45454545  8.18181818]\n",
      " [10.90909091 13.63636364 16.36363636 19.09090909]\n",
      " [21.81818182 24.54545455 27.27272727 30.        ]]\n",
      "[[[  0.           3.84615385   7.69230769]\n",
      "  [ 11.53846154  15.38461538  19.23076923]\n",
      "  [ 23.07692308  26.92307692  30.76923077]]\n",
      "\n",
      " [[ 34.61538462  38.46153846  42.30769231]\n",
      "  [ 46.15384615  50.          53.84615385]\n",
      "  [ 57.69230769  61.53846154  65.38461538]]\n",
      "\n",
      " [[ 69.23076923  73.07692308  76.92307692]\n",
      "  [ 80.76923077  84.61538462  88.46153846]\n",
      "  [ 92.30769231  96.15384615 100.        ]]]\n"
     ]
    }
   ],
   "source": [
    "b =linspace(0,30,12).reshape(3,4)\n",
    "c =linspace(0,100,27).reshape(3,3,3)\n",
    "print(b)\n",
    "print(c)"
   ]
  },
  {
   "cell_type": "code",
   "execution_count": 94,
   "id": "d8b37e5d",
   "metadata": {},
   "outputs": [
    {
     "name": "stdout",
     "output_type": "stream",
     "text": [
      "[[ 5  0  0  0  0]\n",
      " [ 0 12  0  0  0]\n",
      " [ 0  0  4  0  0]\n",
      " [ 0  0  0 -1  0]\n",
      " [ 0  0  0  0  3]]\n",
      "-------------------------\n",
      "[[ 0  0  0  5  0  0  0  0]\n",
      " [ 0  0  0  0 12  0  0  0]\n",
      " [ 0  0  0  0  0  4  0  0]\n",
      " [ 0  0  0  0  0  0 -1  0]\n",
      " [ 0  0  0  0  0  0  0  3]\n",
      " [ 0  0  0  0  0  0  0  0]\n",
      " [ 0  0  0  0  0  0  0  0]\n",
      " [ 0  0  0  0  0  0  0  0]]\n",
      "-------------------------\n"
     ]
    }
   ],
   "source": [
    "# Makes a matrix zeros(5,5):first given number ,and then write a diagonal as a given numbers.\n",
    "a = diag(array([5,12,4,-1,3]))\n",
    "b = diag(array([5,12,4,-1,3]),k=3) # k=3 means : add 3 zeros columns to the left (by default).\n",
    "print(a)\n",
    "print('-------------------------')\n",
    "print(b)\n",
    "print('-------------------------')"
   ]
  },
  {
   "cell_type": "code",
   "execution_count": 95,
   "id": "5c5ca1e6",
   "metadata": {},
   "outputs": [
    {
     "name": "stdout",
     "output_type": "stream",
     "text": [
      "[[8 2 7]\n",
      " [9 8 2]\n",
      " [9 5 4]]\n",
      "9\n"
     ]
    }
   ],
   "source": [
    "# Counts the numbers that is not zero.\n",
    "a = random.randint(0,10,(3,3))\n",
    "b = count_nonzero(a)\n",
    "print(a)\n",
    "print(b)"
   ]
  },
  {
   "cell_type": "code",
   "execution_count": 96,
   "id": "bdba3598",
   "metadata": {},
   "outputs": [
    {
     "name": "stdout",
     "output_type": "stream",
     "text": [
      "[[3 6 3]\n",
      " [4 5 8]\n",
      " [3 9 8]]\n",
      "4\n",
      "6\n"
     ]
    }
   ],
   "source": [
    "a = random.randint(0,10,(3,3))\n",
    "b = count_nonzero(a>5)\n",
    "c = count_nonzero(a<8)\n",
    "print(a)\n",
    "print(b)\n",
    "print(c)"
   ]
  },
  {
   "cell_type": "code",
   "execution_count": 97,
   "id": "97995e2f",
   "metadata": {},
   "outputs": [
    {
     "name": "stdout",
     "output_type": "stream",
     "text": [
      "[[2 6 4]\n",
      " [6 3 3]\n",
      " [9 3 4]]\n",
      "[1 1 1]\n",
      "[3 3 2]\n"
     ]
    }
   ],
   "source": [
    "# axis = 1 means that count the rows.\n",
    "a = random.randint(0,10,(3,3))\n",
    "b = count_nonzero(a>5,axis=1)\n",
    "c = count_nonzero(a<8,axis=1)\n",
    "print(a)\n",
    "print(b)\n",
    "print(c)"
   ]
  },
  {
   "cell_type": "code",
   "execution_count": 98,
   "id": "429f289c",
   "metadata": {},
   "outputs": [
    {
     "name": "stdout",
     "output_type": "stream",
     "text": [
      "[[5 7 7]\n",
      " [9 7 6]\n",
      " [0 5 4]]\n",
      "[1 2 2]\n",
      "[2 3 3]\n"
     ]
    }
   ],
   "source": [
    "# axis = 0 means that count the columns.\n",
    "a = random.randint(0,10,(3,3))\n",
    "b = count_nonzero(a>5,axis=0)\n",
    "c = count_nonzero(a<8,axis=0)\n",
    "print(a)\n",
    "print(b)\n",
    "print(c)"
   ]
  },
  {
   "cell_type": "code",
   "execution_count": 99,
   "id": "b9f36c96",
   "metadata": {},
   "outputs": [
    {
     "name": "stdout",
     "output_type": "stream",
     "text": [
      "[[1 1 0]\n",
      " [0 1 0]\n",
      " [0 6 4]]\n",
      "True\n"
     ]
    }
   ],
   "source": [
    "# any means OR .\n",
    "a = random.randint(0,10,(3,3))\n",
    "b = any(a>5)\n",
    "print(a)\n",
    "print(b)"
   ]
  },
  {
   "cell_type": "code",
   "execution_count": 100,
   "id": "20de52a7",
   "metadata": {},
   "outputs": [
    {
     "name": "stdout",
     "output_type": "stream",
     "text": [
      "[[5 5 3]\n",
      " [3 8 5]\n",
      " [3 0 2]]\n",
      "[False  True False]\n"
     ]
    }
   ],
   "source": [
    "a = random.randint(0,10,(3,3))\n",
    "b = any(a>5,axis=1)\n",
    "print(a)\n",
    "print(b)"
   ]
  },
  {
   "cell_type": "code",
   "execution_count": 101,
   "id": "e253e8a3",
   "metadata": {},
   "outputs": [
    {
     "name": "stdout",
     "output_type": "stream",
     "text": [
      "[[2 5 5]\n",
      " [9 3 0]\n",
      " [4 9 6]]\n",
      "False\n"
     ]
    }
   ],
   "source": [
    "# all means AND . \n",
    "a = random.randint(0,10,(3,3))\n",
    "b = all(a>5)\n",
    "print(a)\n",
    "print(b)"
   ]
  },
  {
   "cell_type": "code",
   "execution_count": 102,
   "id": "be373902",
   "metadata": {},
   "outputs": [
    {
     "name": "stdout",
     "output_type": "stream",
     "text": [
      "[[9 7 1]\n",
      " [1 5 7]\n",
      " [5 9 7]]\n",
      "[False False False]\n"
     ]
    }
   ],
   "source": [
    "a = random.randint(0,10,(3,3))\n",
    "b = all(a>5,axis=0)\n",
    "print(a)\n",
    "print(b)"
   ]
  },
  {
   "cell_type": "code",
   "execution_count": 17,
   "id": "667e1b89",
   "metadata": {},
   "outputs": [],
   "source": [
    "# (axis = 1) == rows\n",
    "# (axis = 0) == columns"
   ]
  },
  {
   "cell_type": "code",
   "execution_count": 18,
   "id": "79550acf",
   "metadata": {},
   "outputs": [],
   "source": [
    "# any = OR\n",
    "# all = AND "
   ]
  },
  {
   "cell_type": "code",
   "execution_count": 103,
   "id": "e5320764",
   "metadata": {},
   "outputs": [
    {
     "name": "stdout",
     "output_type": "stream",
     "text": [
      "[[19  9 18]\n",
      " [15 16  8]\n",
      " [ 5 13 13]]\n",
      "-------------------------\n",
      "[[ True False  True]\n",
      " [ True  True False]\n",
      " [False  True  True]]\n",
      "-------------------------\n",
      "[[False  True False]\n",
      " [False False  True]\n",
      " [ True  True  True]]\n"
     ]
    }
   ],
   "source": [
    "a =random.randint(5,20, size=9).reshape(3,3)\n",
    "b = a>10\n",
    "c = a<15\n",
    "print(a)\n",
    "print('-------------------------')\n",
    "print(b)\n",
    "print('-------------------------')\n",
    "print(c)"
   ]
  },
  {
   "cell_type": "code",
   "execution_count": 104,
   "id": "807cb9eb",
   "metadata": {},
   "outputs": [
    {
     "name": "stdout",
     "output_type": "stream",
     "text": [
      "[[14  5 19]\n",
      " [14 15  5]\n",
      " [ 5  5 17]]\n",
      "-------------------------\n",
      "[[ True False  True]\n",
      " [ True  True False]\n",
      " [False False  True]]\n",
      "-------------------------\n",
      "[[ True  True False]\n",
      " [ True False  True]\n",
      " [ True  True False]]\n",
      "-------------------------\n",
      "[14 19 14 15 17]\n",
      "-------------------------\n",
      "[14  5 14  5  5  5]\n"
     ]
    }
   ],
   "source": [
    "# a[b] == print all trues number in b. \n",
    "a =random.randint(5,20, size=9).reshape(3,3)\n",
    "b = a>10\n",
    "c = a<15\n",
    "d = a[b]\n",
    "e = a[c]\n",
    "print(a)\n",
    "print('-------------------------')\n",
    "print(b)\n",
    "print('-------------------------')\n",
    "print(c)\n",
    "print('-------------------------')\n",
    "print(d)\n",
    "print('-------------------------')\n",
    "print(e)"
   ]
  },
  {
   "cell_type": "code",
   "execution_count": 105,
   "id": "4685947d",
   "metadata": {},
   "outputs": [
    {
     "name": "stdout",
     "output_type": "stream",
     "text": [
      "[[0 1 2]\n",
      " [3 4 5]\n",
      " [6 7 8]]\n",
      "-------------------------\n",
      "[[0 1 2]\n",
      " [3 4 5]\n",
      " [6 7 8]]\n",
      "-------------------------\n",
      "[[ 0  2  4]\n",
      " [ 6  8 10]\n",
      " [12 14 16]]\n",
      "-------------------------\n",
      "[[ True  True  True]\n",
      " [ True  True  True]\n",
      " [ True  True  True]]\n",
      "-------------------------\n",
      "[[ True False False]\n",
      " [False False False]\n",
      " [False False False]]\n"
     ]
    }
   ],
   "source": [
    "# isclose with rtol means that a,b && a,c if equal print true ,else print false. \n",
    "a = arange(9).reshape(3,3)\n",
    "b = arange(9).reshape(3,3)\n",
    "c = 2*b\n",
    "d = isclose(a,b,rtol = 0.1)\n",
    "e = isclose(a,c,rtol = 0.1)\n",
    "print(a)\n",
    "print('-------------------------')\n",
    "print(b)\n",
    "print('-------------------------')\n",
    "print(c)\n",
    "print('-------------------------')\n",
    "print(d)\n",
    "print('-------------------------')\n",
    "print(e)"
   ]
  },
  {
   "cell_type": "code",
   "execution_count": 106,
   "id": "fa2339ef",
   "metadata": {},
   "outputs": [
    {
     "name": "stdout",
     "output_type": "stream",
     "text": [
      "[0 1 2 3 4]\n",
      "[ 0. 10. 20. 30. 40.]\n"
     ]
    }
   ],
   "source": [
    "# Multiply a * 10 .\n",
    "a = arange(5)\n",
    "b = empty(5)\n",
    "multiply(a, 10, out=b)\n",
    "print(a)\n",
    "print(b)"
   ]
  },
  {
   "cell_type": "code",
   "execution_count": 107,
   "id": "d43e4f35",
   "metadata": {},
   "outputs": [
    {
     "name": "stdout",
     "output_type": "stream",
     "text": [
      "[0 1 2 3 4]\n",
      "[  0.   1.  16.  81. 256.]\n"
     ]
    }
   ],
   "source": [
    "# a power 4 .\n",
    "a = arange(5)\n",
    "b = empty(5)\n",
    "power(a, 4, out=b)\n",
    "print(a)\n",
    "print(b)"
   ]
  },
  {
   "cell_type": "code",
   "execution_count": 108,
   "id": "41190aac",
   "metadata": {},
   "outputs": [
    {
     "name": "stdout",
     "output_type": "stream",
     "text": [
      "[ 0  1  2  3  4  5  6  7  8  9 10 11 12 13 14]\n",
      "105\n"
     ]
    }
   ],
   "source": [
    "# Sum of matrix values .\n",
    "a = arange(15)\n",
    "b = add.reduce(a)\n",
    "print(a)\n",
    "print(b)"
   ]
  },
  {
   "cell_type": "code",
   "execution_count": 109,
   "id": "e9c085fc",
   "metadata": {},
   "outputs": [
    {
     "name": "stdout",
     "output_type": "stream",
     "text": [
      "[1, 2, 3, 4, 5, 6, 7, 8, 9, 10]\n",
      "[ 1  2  3  4  5  6  7  8  9 10]\n",
      "55\n"
     ]
    }
   ],
   "source": [
    "a = [1,2,3,4,5,6,7,8,9,10]\n",
    "b = array(a)\n",
    "c = add.reduce(b) \n",
    "print(a)\n",
    "print(b)\n",
    "print(c)"
   ]
  },
  {
   "cell_type": "code",
   "execution_count": 110,
   "id": "875116a3",
   "metadata": {},
   "outputs": [
    {
     "name": "stdout",
     "output_type": "stream",
     "text": [
      "[2 3 4 5 6 7]\n",
      "5040\n"
     ]
    }
   ],
   "source": [
    "a = arange(2,8)\n",
    "b = multiply.reduce(a)\n",
    "print(a)\n",
    "print(b)"
   ]
  },
  {
   "cell_type": "code",
   "execution_count": 111,
   "id": "07b112dd",
   "metadata": {},
   "outputs": [
    {
     "name": "stdout",
     "output_type": "stream",
     "text": [
      "[2 3 4 5 6 7]\n",
      "[[ 4  6  8 10 12 14]\n",
      " [ 6  9 12 15 18 21]\n",
      " [ 8 12 16 20 24 28]\n",
      " [10 15 20 25 30 35]\n",
      " [12 18 24 30 36 42]\n",
      " [14 21 28 35 42 49]]\n"
     ]
    }
   ],
   "source": [
    "# That makes a first value multiply the whole matrix then second and so on .\n",
    "a = arange(2,8)\n",
    "b = multiply.outer(a,a)\n",
    "print(a)\n",
    "print(b)"
   ]
  },
  {
   "cell_type": "code",
   "execution_count": 112,
   "id": "6092f2c5",
   "metadata": {},
   "outputs": [
    {
     "name": "stdout",
     "output_type": "stream",
     "text": [
      "[0 1 2 3 4 5 6 7 8 9]\n",
      "[ 0  1  3  6 10 15 21 28 36 45]\n"
     ]
    }
   ],
   "source": [
    "# That makes to add the previous values , ex: when get the sum of 10 : (4+3+2+1+0)=10 and so on.\n",
    "a = arange(10)\n",
    "b = add.accumulate(a)\n",
    "print(a)\n",
    "print(b)"
   ]
  },
  {
   "cell_type": "code",
   "execution_count": 113,
   "id": "a662edd0",
   "metadata": {},
   "outputs": [
    {
     "name": "stdout",
     "output_type": "stream",
     "text": [
      "[2 3 4 5 6 7]\n",
      "[   2    6   24  120  720 5040]\n"
     ]
    }
   ],
   "source": [
    "a = arange(2,8)\n",
    "b = multiply.accumulate(a)\n",
    "print(a)\n",
    "print(b)"
   ]
  },
  {
   "cell_type": "code",
   "execution_count": 114,
   "id": "8b62a914",
   "metadata": {},
   "outputs": [
    {
     "name": "stdout",
     "output_type": "stream",
     "text": [
      "[ 0  1  2  3  4  5  6  7  8  9 10 11]\n",
      "12\n",
      "[[ 0  1  2  3]\n",
      " [ 4  5  6  7]\n",
      " [ 8  9 10 11]]\n",
      "3\n"
     ]
    }
   ],
   "source": [
    "# (d = len(c)) after reshape to know the size of rows.\n",
    "a = arange(12)\n",
    "b = len(a)\n",
    "c = a.reshape(3,4)\n",
    "d = len(c)\n",
    "print(a)\n",
    "print(b)\n",
    "print(c)\n",
    "print(d)"
   ]
  },
  {
   "cell_type": "code",
   "execution_count": 115,
   "id": "578c0906",
   "metadata": {},
   "outputs": [],
   "source": [
    "# Note:\n",
    "# the numbers of rows and columns in reshape should equal the number of component that entered => like arrange(12)."
   ]
  },
  {
   "cell_type": "code",
   "execution_count": 116,
   "id": "01601144",
   "metadata": {},
   "outputs": [
    {
     "name": "stdout",
     "output_type": "stream",
     "text": [
      "[ 0  1  2  3  4  5  6  7  8  9 10 11]\n",
      "12\n",
      "[[ 0  1  2  3]\n",
      " [ 4  5  6  7]\n",
      " [ 8  9 10 11]]\n",
      "12\n"
     ]
    }
   ],
   "source": [
    "# (d = c.size) to know the size of the indexes in the matrix.\n",
    "a = arange(12)\n",
    "b = a.size\n",
    "c = a.reshape(3,4)\n",
    "d = c.size\n",
    "print(a)\n",
    "print(b)\n",
    "print(c)\n",
    "print(d)"
   ]
  },
  {
   "cell_type": "code",
   "execution_count": 117,
   "id": "8aad1853",
   "metadata": {},
   "outputs": [
    {
     "name": "stdout",
     "output_type": "stream",
     "text": [
      "[ 0  1  2  3  4  5  6  7  8  9 10 11]\n",
      "(12,)\n",
      "[[ 0  1  2  3]\n",
      " [ 4  5  6  7]\n",
      " [ 8  9 10 11]]\n",
      "(3, 4)\n"
     ]
    }
   ],
   "source": [
    "a = arange(12)\n",
    "b = a.shape\n",
    "c = a.reshape(3,4)\n",
    "d = c.shape\n",
    "print(a)\n",
    "print(b)\n",
    "print(c)\n",
    "print(d)"
   ]
  },
  {
   "cell_type": "code",
   "execution_count": 118,
   "id": "63c8a926",
   "metadata": {},
   "outputs": [],
   "source": [
    "# (shape == interval of matrix): like above example (3,4).\n",
    "# (reshape == formating): like above example."
   ]
  },
  {
   "cell_type": "code",
   "execution_count": 119,
   "id": "45c17599",
   "metadata": {},
   "outputs": [
    {
     "name": "stdout",
     "output_type": "stream",
     "text": [
      "[ 0  1  2  3  4  5  6  7  8  9 10 11]\n",
      "1\n",
      "[[ 0  1  2  3]\n",
      " [ 4  5  6  7]\n",
      " [ 8  9 10 11]]\n",
      "2\n"
     ]
    }
   ],
   "source": [
    "# ndim is abbreviation of number of dimension like (3,4) in reshape that is equal 2 and arrange(12) is equal 1.\n",
    "a = arange(12)\n",
    "b = a.ndim\n",
    "c = a.reshape(3,4)\n",
    "d = c.ndim\n",
    "print(a)\n",
    "print(b)\n",
    "print(c)\n",
    "print(d)"
   ]
  },
  {
   "cell_type": "code",
   "execution_count": 120,
   "id": "dc71cdcb",
   "metadata": {},
   "outputs": [
    {
     "name": "stdout",
     "output_type": "stream",
     "text": [
      "['a2' 'd2' 'g3' 'h4' 'j5']\n",
      "<U2\n",
      "[ 0  1  2  3  4  5  6  7  8  9 10 11]\n",
      "[[ 0  1  2  3]\n",
      " [ 4  5  6  7]\n",
      " [ 8  9 10 11]]\n",
      "int32\n"
     ]
    }
   ],
   "source": [
    "# (U2): U is string , 2 is the number of each element in array. \n",
    "a = array(['a2','d2','g3','h4','j5'])\n",
    "b = a.dtype\n",
    "c = arange(12)\n",
    "d = c.reshape(3,4)\n",
    "e = d.dtype\n",
    "print(a)\n",
    "print(b)\n",
    "print(c)\n",
    "print(d)\n",
    "print(e)"
   ]
  },
  {
   "cell_type": "code",
   "execution_count": 124,
   "id": "b6e1168c",
   "metadata": {},
   "outputs": [
    {
     "name": "stdout",
     "output_type": "stream",
     "text": [
      "[[1 2]\n",
      " [3 4]]\n",
      "[[1 2 3]\n",
      " [4 5 6]]\n",
      "-------------------------\n",
      "(2, 2)\n",
      "(2, 3)\n"
     ]
    }
   ],
   "source": [
    "# Matrix formation\n",
    "a = matrix('{} {};{} {}'.format(1,2,3,4)) # (2,2)\n",
    "b = matrix('{} {} {};{} {} {}'.format(1,2,3,4,5,6)) # (2,3)\n",
    "print(a)\n",
    "print(b)\n",
    "print(\"-------------------------\")\n",
    "c = a.shape\n",
    "d = b.shape\n",
    "print(c)\n",
    "print(d)"
   ]
  },
  {
   "cell_type": "code",
   "execution_count": 125,
   "id": "bcdfd0b9",
   "metadata": {},
   "outputs": [
    {
     "name": "stdout",
     "output_type": "stream",
     "text": [
      "[0 1 2 3 4 5 6 7 8]\n",
      "[[0 1 2]\n",
      " [3 4 5]\n",
      " [6 7 8]]\n",
      "12\n"
     ]
    }
   ],
   "source": [
    "# Trace function : is used to calculate the sum of the diagonal elements of a given array or matrix.\n",
    "a = arange(9)\n",
    "b = a.reshape(3,3)\n",
    "c = trace(b) # (0+4+8)=12\n",
    "print(a)\n",
    "print(b)\n",
    "print(c)"
   ]
  },
  {
   "cell_type": "code",
   "execution_count": 126,
   "id": "19d3a53e",
   "metadata": {},
   "outputs": [
    {
     "name": "stdout",
     "output_type": "stream",
     "text": [
      "[0 1 2 3 4 5 6 7 8]\n",
      "[[0 1 2]\n",
      " [3 4 5]\n",
      " [6 7 8]]\n",
      "0.0\n",
      "(array([ 1.33484692e+01, -1.34846923e+00, -1.26963291e-15]), array([[ 0.16476382,  0.79969966,  0.40824829],\n",
      "       [ 0.50577448,  0.10420579, -0.81649658],\n",
      "       [ 0.84678513, -0.59128809,  0.40824829]]))\n"
     ]
    }
   ],
   "source": [
    "# linalg.det(): This function is used to compute the determinant of a square matrix,\n",
    "# it takes a single argument, which is the input matrix, and returns the determinant value as a scalar.\n",
    "\n",
    "#linalg.eig(): This function is used to compute the eigenvalues and eigenvectors of a square matrix.it takes a single \n",
    "# argument, which is the input matrix, and returns a tuple containing two arrays: the eigenvalues and the eigenvectors.\n",
    "\n",
    "a = arange(9)\n",
    "b = a.reshape(3,3)\n",
    "c = linalg.det(b)\n",
    "d = linalg.eig(b)\n",
    "print(a)\n",
    "print(b)\n",
    "print(c)\n",
    "print(d)"
   ]
  },
  {
   "cell_type": "code",
   "execution_count": 127,
   "id": "91857dbe",
   "metadata": {},
   "outputs": [
    {
     "name": "stdout",
     "output_type": "stream",
     "text": [
      "[0 1 2 3 4 5 6 7 8 9]\n",
      "3\n",
      "[3 4 5 6 7 8]\n",
      "[3 5 7]\n",
      "9\n",
      "7\n"
     ]
    }
   ],
   "source": [
    "# (From : To-1)\n",
    "a = arange(10)\n",
    "c = a[3] # index 3\n",
    "d = a[3:9] # index (3 to 8)\n",
    "e = a[3:9:2] # index (3 to 8 and ignore one step after) ex: (3,4(ignored),5,6(ignored),7,8(ignored))= (3,5,7).\n",
    "f = a[-1] # index (last)\n",
    "g = a[-3] # index (before before last)\n",
    "print(a)\n",
    "print(c)\n",
    "print(d)\n",
    "print(e)\n",
    "print(f)\n",
    "print(g)"
   ]
  },
  {
   "cell_type": "code",
   "execution_count": 128,
   "id": "106a975f",
   "metadata": {},
   "outputs": [
    {
     "name": "stdout",
     "output_type": "stream",
     "text": [
      "[[ 0  1  2  3  4  5]\n",
      " [ 6  7  8  9 10 11]\n",
      " [12 13 14 15 16 17]\n",
      " [18 19 20 21 22 23]\n",
      " [24 25 26 27 28 29]\n",
      " [30 31 32 33 34 35]]\n",
      "-------------------------\n",
      "[18 19 20 21 22 23]\n",
      "-------------------------\n",
      "[[18 19 20 21 22 23]\n",
      " [24 25 26 27 28 29]\n",
      " [30 31 32 33 34 35]]\n",
      "-------------------------\n",
      "[[18 19 20 21 22 23]\n",
      " [30 31 32 33 34 35]]\n",
      "-------------------------\n",
      "[30 31 32 33 34 35]\n",
      "-------------------------\n",
      "[18 19 20 21 22 23]\n"
     ]
    }
   ],
   "source": [
    "a = arange(36).reshape(6,6)\n",
    "c = a[3]\n",
    "d = a[3:9]\n",
    "e = a[3:9:2]\n",
    "f = a[-1]\n",
    "g = a[-3]\n",
    "print(a)\n",
    "print('-------------------------')\n",
    "print(c)\n",
    "print('-------------------------')\n",
    "print(d)\n",
    "print('-------------------------')\n",
    "print(e)\n",
    "print('-------------------------')\n",
    "print(f)\n",
    "print('-------------------------')\n",
    "print(g)"
   ]
  },
  {
   "cell_type": "code",
   "execution_count": 130,
   "id": "78886f3a",
   "metadata": {},
   "outputs": [
    {
     "name": "stdout",
     "output_type": "stream",
     "text": [
      "[[ 6  7  8  9 10 11]]\n",
      "[[ 0  1  2  3  4  5]\n",
      " [ 6  7  8  9 10 11]\n",
      " [12 13 14 15 16 17]\n",
      " [18 19 20 21 22 23]\n",
      " [24 25 26 27 28 29]\n",
      " [30 31 32 33 34 35]]\n",
      "-------------------------\n",
      "19\n",
      "-------------------------\n",
      "[18 19 20 21 22 23]\n",
      "-------------------------\n",
      "[ 2  8 14 20 26 32]\n",
      "-------------------------\n",
      "[[ 1  2]\n",
      " [ 7  8]\n",
      " [13 14]\n",
      " [19 20]\n",
      " [25 26]\n",
      " [31 32]]\n",
      "-------------------------\n",
      "[[ 6  7  8  9 10 11]]\n"
     ]
    }
   ],
   "source": [
    "a = arange(36).reshape(6,6)\n",
    "c = a[3,1] # Value of index (3,1)=19\n",
    "d = a[3,:] # Value of index (3,all row)\n",
    "e = a[:,2] # Value of index (all column,2)\n",
    "f = a[:,1:3] # Value of index (all column,1 to (3-1))\n",
    "g = a[1:2,:] # Value of index (1,2 to all row) == as a[1:2]\n",
    "print(a)\n",
    "print('-------------------------')\n",
    "print(c)\n",
    "print('-------------------------')\n",
    "print(d)\n",
    "print('-------------------------')\n",
    "print(e)\n",
    "print('-------------------------')\n",
    "print(f)\n",
    "print('-------------------------')\n",
    "print(g)"
   ]
  },
  {
   "cell_type": "code",
   "execution_count": 131,
   "id": "3e32b684",
   "metadata": {},
   "outputs": [
    {
     "name": "stdout",
     "output_type": "stream",
     "text": [
      "[[ 0  1  2  3  4  5]\n",
      " [ 6  7  8  9 10 11]\n",
      " [12 13 14 15 16 17]\n",
      " [18 19 20 21 22 23]\n",
      " [24 25 26 27 28 29]\n",
      " [30 31 32 33 34 35]]\n",
      "-------------------------\n",
      "[[19 20 21 22]]\n",
      "-------------------------\n",
      "[[15 16 17]\n",
      " [21 22 23]\n",
      " [27 28 29]\n",
      " [33 34 35]]\n",
      "-------------------------\n",
      "[[0 1 2]\n",
      " [6 7 8]]\n",
      "-------------------------\n",
      "[ 5 11 17 23 29 35]\n",
      "-------------------------\n",
      "[30 31 32 33 34 35]\n"
     ]
    }
   ],
   "source": [
    "a = arange(36).reshape(6,6)\n",
    "c = a[3:4,1:5] # index of 3 in row ,column from index 1 to 4.\n",
    "d = a[2:,3:] # index of 2 in row to end,column from index 3 to end.\n",
    "e = a[:2,:3] # index from first row to 1,column from first to 2.\n",
    "f = a[:,-1] # last column.\n",
    "g = a[-1,:] # last row.\n",
    "print(a)\n",
    "print('-------------------------')\n",
    "print(c)\n",
    "print('-------------------------')\n",
    "print(d)\n",
    "print('-------------------------')\n",
    "print(e)\n",
    "print('-------------------------')\n",
    "print(f)\n",
    "print('-------------------------')\n",
    "print(g)"
   ]
  },
  {
   "cell_type": "code",
   "execution_count": 132,
   "id": "b24dce22",
   "metadata": {},
   "outputs": [
    {
     "name": "stdout",
     "output_type": "stream",
     "text": [
      "[[ 0  1  2  3  4  5]\n",
      " [ 6  7  8  9 10 11]\n",
      " [12 13 14 15 16 17]\n",
      " [18 19 20 21 22 23]\n",
      " [24 25 26 27 28 29]\n",
      " [30 31 32 33 34 35]]\n",
      "-------------------------\n",
      "[[ 0  3]\n",
      " [12 15]\n",
      " [24 27]]\n",
      "-------------------------\n",
      "[[35 34 33 32 31 30]\n",
      " [29 28 27 26 25 24]\n",
      " [23 22 21 20 19 18]\n",
      " [17 16 15 14 13 12]\n",
      " [11 10  9  8  7  6]\n",
      " [ 5  4  3  2  1  0]]\n",
      "-------------------------\n",
      "[[35 34]\n",
      " [29 28]\n",
      " [23 22]]\n",
      "-------------------------\n",
      "[[15]\n",
      " [27]]\n",
      "-------------------------\n",
      "[[35]]\n"
     ]
    }
   ],
   "source": [
    "a = arange(36).reshape(6,6)\n",
    "c = a[::2,::3]\n",
    "d = a[::-1,::-1] # convert from ascending to descending.\n",
    "e = a[:2:-1,:3:-1]\n",
    "f = a[2::2,3::3]\n",
    "g = a[-1::,-1::]\n",
    "print(a)\n",
    "print('-------------------------')\n",
    "print(c)\n",
    "print('-------------------------')\n",
    "print(d)\n",
    "print('-------------------------')\n",
    "print(e)\n",
    "print('-------------------------')\n",
    "print(f)\n",
    "print('-------------------------')\n",
    "print(g)"
   ]
  },
  {
   "cell_type": "code",
   "execution_count": 133,
   "id": "ecbb5cfb",
   "metadata": {},
   "outputs": [
    {
     "name": "stdout",
     "output_type": "stream",
     "text": [
      "[[ 0  1  2  3]\n",
      " [ 4  5  6  7]\n",
      " [ 8  9 10 11]\n",
      " [12 13 14 15]]\n",
      "[[ 0  1  2  3]\n",
      " [ 4  5  6  7]\n",
      " [ 8  9 10  0]\n",
      " [12 13 14 15]]\n",
      "[[ 0  1  2  0]\n",
      " [ 4  5  6  0]\n",
      " [ 8  9 10  0]\n",
      " [12 13 14  0]]\n",
      "[[ 0  1  2  0]\n",
      " [ 4  5  6  0]\n",
      " [ 0  0  0  0]\n",
      " [12 13 14  0]]\n",
      "[[0 0 0 0]\n",
      " [0 0 0 0]\n",
      " [0 0 0 0]\n",
      " [0 0 0 0]]\n"
     ]
    }
   ],
   "source": [
    "a = arange(16).reshape(4,4)\n",
    "print(a)\n",
    "a[2,3]=0\n",
    "print(a)\n",
    "a[:,3]=0\n",
    "print(a)\n",
    "a[2,:]=0\n",
    "print(a)\n",
    "a[:,:]=0\n",
    "print(a)"
   ]
  },
  {
   "cell_type": "code",
   "execution_count": 134,
   "id": "476adad5",
   "metadata": {},
   "outputs": [
    {
     "name": "stdout",
     "output_type": "stream",
     "text": [
      "[[ 0  1  2  3]\n",
      " [ 4  5  6  7]\n",
      " [ 8  9 10 11]\n",
      " [12 13 14 15]]\n",
      "[[ 1  2]\n",
      " [ 5  6]\n",
      " [ 9 10]\n",
      " [13 14]]\n",
      "[[5 5 5 5]\n",
      " [5 5 5 5]\n",
      " [5 5 5 5]\n",
      " [5 5 5 5]]\n",
      "[[5 5]\n",
      " [5 5]\n",
      " [5 5]\n",
      " [5 5]]\n"
     ]
    }
   ],
   "source": [
    "a = arange(16).reshape(4,4)\n",
    "print(a)\n",
    "b = a[:,1:3]\n",
    "print(b)\n",
    "a[:,:] = 5\n",
    "print(a)\n",
    "print(b)"
   ]
  },
  {
   "cell_type": "code",
   "execution_count": 135,
   "id": "f4c95829",
   "metadata": {},
   "outputs": [
    {
     "name": "stdout",
     "output_type": "stream",
     "text": [
      "[[ 0  1  2  3]\n",
      " [ 4  5  6  7]\n",
      " [ 8  9 10 11]\n",
      " [12 13 14 15]]\n",
      "[[ 1  2]\n",
      " [ 5  6]\n",
      " [ 9 10]\n",
      " [13 14]]\n",
      "[[5 5 5 5]\n",
      " [5 5 5 5]\n",
      " [5 5 5 5]\n",
      " [5 5 5 5]]\n",
      "[[ 1  2]\n",
      " [ 5  6]\n",
      " [ 9 10]\n",
      " [13 14]]\n"
     ]
    }
   ],
   "source": [
    "a = arange(16).reshape(4,4)\n",
    "print(a)\n",
    "b = a[:,1:3].copy()\n",
    "print(b)\n",
    "a[:,:] = 5\n",
    "print(a)\n",
    "print(b)"
   ]
  },
  {
   "cell_type": "code",
   "execution_count": 136,
   "id": "31b4c886",
   "metadata": {},
   "outputs": [
    {
     "name": "stdout",
     "output_type": "stream",
     "text": [
      "[[[ 0  1]\n",
      "  [ 2  3]\n",
      "  [ 4  5]]\n",
      "\n",
      " [[ 6  7]\n",
      "  [ 8  9]\n",
      "  [10 11]]\n",
      "\n",
      " [[12 13]\n",
      "  [14 15]\n",
      "  [16 17]]]\n",
      "-------------------------\n",
      "[[ 6  7]\n",
      " [ 8  9]\n",
      " [10 11]]\n",
      "-------------------------\n",
      "[10 11]\n",
      "-------------------------\n",
      "17\n"
     ]
    }
   ],
   "source": [
    "a = arange(18).reshape(3,3,2)\n",
    "c = a[1]\n",
    "d = a[1,2]\n",
    "e = a[2,2,1]\n",
    "print(a)\n",
    "print('-------------------------')\n",
    "print(c)\n",
    "print('-------------------------')\n",
    "print(d)\n",
    "print('-------------------------')\n",
    "print(e)"
   ]
  },
  {
   "cell_type": "code",
   "execution_count": 137,
   "id": "0bd5dd00",
   "metadata": {},
   "outputs": [
    {
     "name": "stdout",
     "output_type": "stream",
     "text": [
      "[11 22 33] [44 55 66] [77 88]\n",
      "[11] [22 33 44 55] [66 77 88]\n",
      "[11 22 33 44 55 66] [] [44 55 66 77 88]\n",
      "[] [11 22 33] [44 55 66 77 88]\n",
      "[11 22 33 44] [] [11 22 33 44 55 66 77 88]\n"
     ]
    }
   ],
   "source": [
    "x = [11,22,33,44,55,66,77,88]\n",
    "x1, x2, x3 = split(x, (3,6)) # [0,1,2],[3,4,5],[6,7]\n",
    "print(x1, x2, x3)\n",
    "x1, x2, x3 = split(x, (1,5)) # [0],[1,2,3,4],[5,6,7]\n",
    "print(x1, x2, x3)\n",
    "x1, x2, x3 = split(x, (6,3)) # [0,1,2,3,4,5],[],[3,4,5,6,7]\n",
    "print(x1, x2, x3)\n",
    "x1, x2, x3 = split(x, (0,3)) # [],[0,1,2],[3,4,5,6,7]\n",
    "print(x1, x2, x3)\n",
    "x1, x2, x3 = split(x, (4,0)) # [0,1,2,3],[],[0,1,2,3,4,5,6,7]\n",
    "print(x1, x2, x3)"
   ]
  },
  {
   "cell_type": "code",
   "execution_count": 138,
   "id": "1855317a",
   "metadata": {},
   "outputs": [
    {
     "name": "stdout",
     "output_type": "stream",
     "text": [
      "[[ 0  1  2  3]\n",
      " [ 4  5  6  7]\n",
      " [ 8  9 10 11]\n",
      " [12 13 14 15]]\n",
      "9\n"
     ]
    }
   ],
   "source": [
    "a = arange(16).reshape(4,4)\n",
    "b = a[2][1]\n",
    "print(a)\n",
    "print(b)"
   ]
  },
  {
   "cell_type": "code",
   "execution_count": 139,
   "id": "6226087d",
   "metadata": {},
   "outputs": [
    {
     "name": "stdout",
     "output_type": "stream",
     "text": [
      "[[0 1]\n",
      " [2 3]]\n",
      "-------------------------\n",
      "[[0 2]\n",
      " [4 6]]\n",
      "-------------------------\n",
      "[[0 1]\n",
      " [2 3]\n",
      " [0 2]\n",
      " [4 6]]\n"
     ]
    }
   ],
   "source": [
    "# vstack : vertical stack => add a on b in matrix vertically.\n",
    "a = arange(4).reshape(2,2)\n",
    "b = 2*arange(4).reshape(2,2)\n",
    "c = vstack((a,b))\n",
    "print(a)\n",
    "print('-------------------------')\n",
    "print(b)\n",
    "print('-------------------------')\n",
    "print(c)"
   ]
  },
  {
   "cell_type": "code",
   "execution_count": 140,
   "id": "583585cf",
   "metadata": {},
   "outputs": [
    {
     "name": "stdout",
     "output_type": "stream",
     "text": [
      "[[0 1]\n",
      " [2 3]]\n",
      "-------------------------\n",
      "[[0 2]\n",
      " [4 6]]\n",
      "-------------------------\n",
      "[[0 1 0 2]\n",
      " [2 3 4 6]]\n"
     ]
    }
   ],
   "source": [
    "# vhstack : horizontal stack => add a on b in matrix horizontaly. \n",
    "a = arange(4).reshape(2,2)\n",
    "b = 2*arange(4).reshape(2,2)\n",
    "c = hstack((a,b))\n",
    "print(a)\n",
    "print('-------------------------')\n",
    "print(b)\n",
    "print('-------------------------')\n",
    "print(c)"
   ]
  },
  {
   "cell_type": "code",
   "execution_count": 150,
   "id": "c896d6c6",
   "metadata": {},
   "outputs": [
    {
     "name": "stdout",
     "output_type": "stream",
     "text": [
      "[[14  7 13]\n",
      " [10  9  8]\n",
      " [16 12  7]]\n",
      "-------------------------\n",
      "[[ 7  6  9]\n",
      " [12  8  9]\n",
      " [ 7  5 16]]\n",
      "-------------------------\n",
      "[[14  7 13  7  6  9]\n",
      " [10  9  8 12  8  9]\n",
      " [16 12  7  7  5 16]]\n",
      "-------------------------\n"
     ]
    }
   ],
   "source": [
    "a = random.randint(5,20, size=9).reshape(3,3)\n",
    "b = random.randint(5,20, size=9).reshape(3,3)\n",
    "c = concatenate([a,b] , axis = 1) # add b to a in rows.\n",
    "print(a)\n",
    "print('-------------------------')\n",
    "print(b)\n",
    "print('-------------------------')\n",
    "print(c)\n",
    "print('-------------------------')"
   ]
  },
  {
   "cell_type": "code",
   "execution_count": 151,
   "id": "9d741344",
   "metadata": {},
   "outputs": [
    {
     "name": "stdout",
     "output_type": "stream",
     "text": [
      "[[ 9  8 19]\n",
      " [ 7 15  8]\n",
      " [ 9  7 11]]\n",
      "-------------------------\n",
      "19\n",
      "-------------------------\n",
      "7\n",
      "-------------------------\n",
      "2\n",
      "-------------------------\n",
      "3\n"
     ]
    }
   ],
   "source": [
    "a = random.randint(5,20, size=9).reshape(3,3)\n",
    "b = a.max()\n",
    "c = a.min()\n",
    "d = argmax(a) # location of max in arrange\n",
    "e = argmin(a) # location of min in arrange\n",
    "print(a)\n",
    "print('-------------------------')\n",
    "print(b)\n",
    "print('-------------------------')\n",
    "print(c)\n",
    "print('-------------------------')\n",
    "print(d)\n",
    "print('-------------------------')\n",
    "print(e)"
   ]
  },
  {
   "cell_type": "code",
   "execution_count": 152,
   "id": "1c3a9741",
   "metadata": {},
   "outputs": [
    {
     "name": "stdout",
     "output_type": "stream",
     "text": [
      "[[15 10 15]\n",
      " [ 8  5  9]\n",
      " [16 12 17]]\n",
      "-------------------------\n",
      "15.209876543209877\n",
      "-------------------------\n",
      "[[8.33333333 5.83333333 7.5       ]\n",
      " [5.83333333 4.33333333 5.5       ]\n",
      " [7.5        5.5        7.        ]]\n"
     ]
    }
   ],
   "source": [
    "a = random.randint(5,20, size=9).reshape(3,3)\n",
    "b = var(a) # variance = mean(abs(x-x.mean) power 2)\n",
    "c = cov(a) # covariance = (summation(xy)/n)-(summation(x)/n)(summation(y)/n)\n",
    "print(a)\n",
    "print('-------------------------')\n",
    "print(b)\n",
    "print('-------------------------')\n",
    "print(c)"
   ]
  },
  {
   "cell_type": "code",
   "execution_count": 4,
   "id": "e9641241",
   "metadata": {},
   "outputs": [
    {
     "name": "stdout",
     "output_type": "stream",
     "text": [
      "[[16 19  5]\n",
      " [ 7 15  7]\n",
      " [ 6 16  5]]\n",
      "-------------------------\n",
      "[[18  7  8]\n",
      " [12 19 15]\n",
      " [ 8  6 11]]\n",
      "-------------------------\n",
      "[[-0.28790332  0.14987721 -0.95892427]\n",
      " [ 0.6569866   0.65028784  0.6569866 ]\n",
      " [-0.2794155  -0.28790332 -0.95892427]]\n",
      "-------------------------\n",
      "[[324  49  64]\n",
      " [144 361 225]\n",
      " [ 64  36 121]]\n",
      "-------------------------\n",
      "[[2.77258872 2.94443898 1.60943791]\n",
      " [1.94591015 2.7080502  1.94591015]\n",
      " [1.79175947 2.77258872 1.60943791]]\n"
     ]
    }
   ],
   "source": [
    "a = random.randint(5,20, size=9).reshape(3,3)\n",
    "b = random.randint(5,20, size=9).reshape(3,3)\n",
    "c = sin(a)\n",
    "d = b**2\n",
    "e = log(a)\n",
    "print(a)\n",
    "print('-------------------------')\n",
    "print(b)\n",
    "print('-------------------------')\n",
    "print(c)\n",
    "print('-------------------------')\n",
    "print(d)\n",
    "print('-------------------------')\n",
    "print(e)"
   ]
  },
  {
   "cell_type": "code",
   "execution_count": 5,
   "id": "f19e13b3",
   "metadata": {},
   "outputs": [
    {
     "name": "stdout",
     "output_type": "stream",
     "text": [
      "[[3 1 1]\n",
      " [2 3 1]\n",
      " [1 2 2]]\n",
      "-------------------------\n",
      "[[2 1 1]\n",
      " [1 1 1]\n",
      " [2 2 2]]\n",
      "-------------------------\n",
      "[[9 6 6]\n",
      " [9 7 7]\n",
      " [8 7 7]]\n"
     ]
    }
   ],
   "source": [
    "a = random.randint(1,4, size=9).reshape(3,3)\n",
    "b = random.randint(1,4, size=9).reshape(3,3)\n",
    "c = dot(a,b)\n",
    "print(a)\n",
    "print('-------------------------')\n",
    "print(b)\n",
    "print('-------------------------')\n",
    "print(c)"
   ]
  },
  {
   "cell_type": "code",
   "execution_count": 6,
   "id": "2cb77463",
   "metadata": {},
   "outputs": [
    {
     "name": "stdout",
     "output_type": "stream",
     "text": [
      "[[14  8 18]\n",
      " [10 16  7]\n",
      " [14 19 17]]\n",
      "-------------------------\n",
      "123\n",
      "-------------------------\n",
      "123\n",
      "-------------------------\n",
      "[40 33 50]\n",
      "-------------------------\n",
      "[38 43 42]\n"
     ]
    }
   ],
   "source": [
    "a = random.randint(5,20, size=9).reshape(3,3)\n",
    "b = sum(a)\n",
    "c = a.sum()\n",
    "d = a.sum(axis = 1)  # Sum of rows\n",
    "e = a.sum(axis = 0)  # Sum of columns\n",
    "print(a)\n",
    "print('-------------------------')\n",
    "print(b)\n",
    "print('-------------------------')\n",
    "print(c)\n",
    "print('-------------------------')\n",
    "print(d)\n",
    "print('-------------------------')\n",
    "print(e)"
   ]
  },
  {
   "cell_type": "code",
   "execution_count": 7,
   "id": "7d21264c",
   "metadata": {},
   "outputs": [
    {
     "name": "stdout",
     "output_type": "stream",
     "text": [
      "[[ 8 19  8]\n",
      " [12 16 15]\n",
      " [17 12  6]]\n",
      "-------------------------\n",
      "12.555555555555555\n",
      "-------------------------\n",
      "4.271640619275797\n",
      "-------------------------\n",
      "18.246913580246915\n"
     ]
    }
   ],
   "source": [
    "a = random.randint(5,20, size=9).reshape(3,3)\n",
    "b = a.mean()  # Average or arithmetic mean  = (n1 + n2 + n3 + n4 + n5) / 5\n",
    "c = a.std()   # Standared Deviation = sqrt(mean(abs(x-x.mean) power 2))\n",
    "d = a.var()\n",
    "print(a)\n",
    "print('-------------------------')\n",
    "print(b)\n",
    "print('-------------------------')\n",
    "print(c)\n",
    "print('-------------------------')\n",
    "print(d)"
   ]
  },
  {
   "cell_type": "code",
   "execution_count": 8,
   "id": "db518e81",
   "metadata": {},
   "outputs": [
    {
     "name": "stdout",
     "output_type": "stream",
     "text": [
      "[[13 18 15]\n",
      " [10  7 14]\n",
      " [17 15 16]]\n",
      "-------------------------\n",
      "[[ 1.         -0.52802    -0.99339927]\n",
      " [-0.52802     1.          0.4271211 ]\n",
      " [-0.99339927  0.4271211   1.        ]]\n",
      "-------------------------\n"
     ]
    }
   ],
   "source": [
    "a = random.randint(5,20, size=9).reshape(3,3)\n",
    "b = corrcoef(a)   # Relationship for every number to whole numbers.\n",
    "print(a)\n",
    "print('-------------------------')\n",
    "print(b)\n",
    "print('-------------------------')"
   ]
  },
  {
   "cell_type": "code",
   "execution_count": 2,
   "id": "ce1b2b53",
   "metadata": {},
   "outputs": [
    {
     "name": "stdout",
     "output_type": "stream",
     "text": [
      "[[19 12 13]\n",
      " [14 11 19]\n",
      " [12 12 14]]\n",
      "-------------------------\n",
      "[[12 11 13]\n",
      " [14 12 14]\n",
      " [19 12 19]]\n",
      "-------------------------\n",
      "[[12 13 19]\n",
      " [11 14 19]\n",
      " [12 12 14]]\n",
      "-------------------------\n"
     ]
    }
   ],
   "source": [
    "a = random.randint(5,20, size=9).reshape(3,3)\n",
    "b = sort(a,axis=0)\n",
    "c = sort(a,axis=1)\n",
    "print(a)\n",
    "print('-------------------------')\n",
    "print(b)\n",
    "print('-------------------------')\n",
    "print(c)\n",
    "print('-------------------------')"
   ]
  },
  {
   "cell_type": "code",
   "execution_count": 4,
   "id": "9427543d",
   "metadata": {},
   "outputs": [],
   "source": [
    "# Pandas is more efficient than Numpy in dealing with files."
   ]
  },
  {
   "cell_type": "code",
   "execution_count": 9,
   "id": "f18df830",
   "metadata": {},
   "outputs": [
    {
     "name": "stdout",
     "output_type": "stream",
     "text": [
      "[(b'F', 1.68) (b'F', 1.56) (b'F', 1.64) (b'M', 1.63) (b'M', 1.67)\n",
      " (b'F', 1.59)]\n"
     ]
    }
   ],
   "source": [
    "fname = \"D:\\\\Courses\\\\Hesham Assem\\\\New folder\\\\file1.txt\"\n",
    "dtype1  =  dtype([('gender',  '|S1'),  ('height',  'f8')])\n",
    "a = loadtxt(fname, dtype=dtype1, skiprows=9, usecols=(1,3)) # skiprows: to skip first 9 rows and return row = 10.\n",
    "# usecols: to return column number 2 and 4. \n",
    "print(a)"
   ]
  },
  {
   "cell_type": "code",
   "execution_count": 2,
   "id": "d22c5805",
   "metadata": {},
   "outputs": [
    {
     "name": "stdout",
     "output_type": "stream",
     "text": [
      "[1890. 1900. 1910. 1920. 1930.]\n",
      "[26.1 25.9 25.1 24.6 24.3]\n",
      "[22.  21.9 21.6 21.2 21.3]\n"
     ]
    }
   ],
   "source": [
    "a,b,c = loadtxt(\"D:\\\\Courses\\\\Hesham Assem\\\\New folder\\\\file2.txt\", unpack=True,skiprows=3)  # unpack = true => a,b,c to deal with columns.\n",
    "print(a)\n",
    "print(b)\n",
    "print(c)"
   ]
  },
  {
   "cell_type": "code",
   "execution_count": 3,
   "id": "5923794e",
   "metadata": {},
   "outputs": [
    {
     "name": "stdout",
     "output_type": "stream",
     "text": [
      "[(1, b'F', 18.72, 31.11) (2, b'F', 21.14, 52.47) (3, b'F', 19.38, 33.9 )]\n"
     ]
    }
   ],
   "source": [
    "data = genfromtxt(\"D:\\\\Courses\\\\Hesham Assem\\\\New folder\\\\file3.txt\",  skip_header=1, dtype=[('student','u8'),\n",
    "('gender','S1'),('black','f8'),('colour','f8')],delimiter=',', missing_values='X')\n",
    "# skip_header = skiprows.\n",
    "# delimiter: separator = ','\n",
    "print(data)"
   ]
  },
  {
   "cell_type": "code",
   "execution_count": 5,
   "id": "fb797da6",
   "metadata": {},
   "outputs": [
    {
     "name": "stdout",
     "output_type": "stream",
     "text": [
      "2023-12-10\n",
      "-------------------------\n"
     ]
    }
   ],
   "source": [
    "x = array('2023-12-10', dtype=datetime64)\n",
    "print(x)\n",
    "print('-------------------------')"
   ]
  },
  {
   "cell_type": "code",
   "execution_count": 7,
   "id": "bd225dde",
   "metadata": {},
   "outputs": [
    {
     "name": "stdout",
     "output_type": "stream",
     "text": [
      "2023-12-10\n",
      "-------------------------\n",
      "['2023-12-10' '2023-12-11' '2023-12-12' '2023-12-13' '2023-12-14'\n",
      " '2023-12-15' '2023-12-16' '2023-12-17' '2023-12-18' '2023-12-19'\n",
      " '2023-12-20' '2023-12-21']\n"
     ]
    }
   ],
   "source": [
    "x = datetime64('2023-12-10')\n",
    "y = x + arange(12)\n",
    "print(x)\n",
    "print('-------------------------')\n",
    "print(y)"
   ]
  },
  {
   "cell_type": "code",
   "execution_count": 8,
   "id": "47060150",
   "metadata": {},
   "outputs": [
    {
     "name": "stdout",
     "output_type": "stream",
     "text": [
      "2023-12-10\n",
      "-------------------------\n",
      "['2023-12-10' '2023-12-09' '2023-12-08' '2023-12-07' '2023-12-06'\n",
      " '2023-12-05' '2023-12-04' '2023-12-03' '2023-12-02' '2023-12-01'\n",
      " '2023-11-30' '2023-11-29']\n"
     ]
    }
   ],
   "source": [
    "x = datetime64('2023-12-10')\n",
    "y = x - arange(12)\n",
    "print(x)\n",
    "print('-------------------------')\n",
    "print(y)"
   ]
  },
  {
   "cell_type": "code",
   "execution_count": 10,
   "id": "9363bad5",
   "metadata": {},
   "outputs": [
    {
     "name": "stdout",
     "output_type": "stream",
     "text": [
      "2023-12-10\n",
      "-------------------------\n",
      "2022-09-21\n",
      "-------------------------\n",
      "445 days\n"
     ]
    }
   ],
   "source": [
    "x = datetime64('2023-12-10')\n",
    "y = datetime64('2022-09-21')\n",
    "z = x-y\n",
    "print(x)\n",
    "print('-------------------------')\n",
    "print(y)\n",
    "print('-------------------------')\n",
    "print(z)"
   ]
  },
  {
   "cell_type": "code",
   "execution_count": 11,
   "id": "e91ff720",
   "metadata": {},
   "outputs": [
    {
     "name": "stdout",
     "output_type": "stream",
     "text": [
      "[  0.   1.   8.  27.  64. 125. 216. 343. 512. 729.]\n",
      "-------------------------\n"
     ]
    }
   ],
   "source": [
    "x = fromfunction(lambda i: i**3, (10,))\n",
    "print(x)\n",
    "print('-------------------------')"
   ]
  },
  {
   "cell_type": "code",
   "execution_count": 12,
   "id": "544c3848",
   "metadata": {},
   "outputs": [
    {
     "name": "stdout",
     "output_type": "stream",
     "text": [
      "[ 375.  648. 1029. 1536. 2187. 3000. 3993. 5184. 6591. 8232.]\n",
      "-------------------------\n"
     ]
    }
   ],
   "source": [
    "x = fromfunction(lambda i: 3 * (i+5)**3, (10,))\n",
    "print(x)\n",
    "print('-------------------------')"
   ]
  },
  {
   "cell_type": "code",
   "execution_count": 13,
   "id": "141f6f40",
   "metadata": {},
   "outputs": [
    {
     "name": "stdout",
     "output_type": "stream",
     "text": [
      "[[0. 1. 2. 3. 4.]\n",
      " [1. 2. 3. 4. 5.]\n",
      " [2. 3. 4. 5. 6.]\n",
      " [3. 4. 5. 6. 7.]]\n",
      "-------------------------\n"
     ]
    }
   ],
   "source": [
    "x = fromfunction(lambda i,j: i+j, (4,5))\n",
    "print(x)\n",
    "print('-------------------------')"
   ]
  },
  {
   "cell_type": "code",
   "execution_count": 15,
   "id": "bb057b58",
   "metadata": {},
   "outputs": [
    {
     "name": "stdout",
     "output_type": "stream",
     "text": [
      "[[ 0.  0.  0.  0.  0.]\n",
      " [ 0.  3.  6.  9. 12.]\n",
      " [ 0.  6. 12. 18. 24.]\n",
      " [ 0.  9. 18. 27. 36.]]\n",
      "-------------------------\n"
     ]
    }
   ],
   "source": [
    "x = fromfunction(lambda i,j: 3*i*j, (4,5))\n",
    "print(x)\n",
    "print('-------------------------')"
   ]
  },
  {
   "cell_type": "code",
   "execution_count": 16,
   "id": "baf67dba",
   "metadata": {},
   "outputs": [
    {
     "name": "stdout",
     "output_type": "stream",
     "text": [
      "[[[0. 1. 2. 3.]\n",
      "  [1. 2. 3. 4.]\n",
      "  [2. 3. 4. 5.]]\n",
      "\n",
      " [[1. 2. 3. 4.]\n",
      "  [2. 3. 4. 5.]\n",
      "  [3. 4. 5. 6.]]]\n",
      "-------------------------\n"
     ]
    }
   ],
   "source": [
    "x = fromfunction(lambda i,j,k: i+j+k, (2,3,4))\n",
    "print(x)\n",
    "print('-------------------------')"
   ]
  },
  {
   "cell_type": "code",
   "execution_count": 17,
   "id": "879b5486",
   "metadata": {},
   "outputs": [
    {
     "name": "stdout",
     "output_type": "stream",
     "text": [
      "[[[ 0.  0.  0.  0.]\n",
      "  [ 0.  1.  2.  3.]\n",
      "  [ 0.  4.  8. 12.]]\n",
      "\n",
      " [[ 2.  2.  2.  2.]\n",
      "  [ 2.  3.  4.  5.]\n",
      "  [ 2.  6. 10. 14.]]]\n",
      "-------------------------\n"
     ]
    }
   ],
   "source": [
    "x = fromfunction(lambda i,j,k: (2*i)+(j**2)*k, (2,3,4))\n",
    "print(x)\n",
    "print('-------------------------')"
   ]
  },
  {
   "cell_type": "code",
   "execution_count": 21,
   "id": "120944d3",
   "metadata": {},
   "outputs": [
    {
     "name": "stdout",
     "output_type": "stream",
     "text": [
      "[ 0  1  4  9 16 25 36 49 64]\n",
      "-------------------------\n"
     ]
    }
   ],
   "source": [
    "def  powers(i):\n",
    "    i  =  i**2\n",
    "    return i\n",
    "x = fromfunction(powers, (9,), dtype=int)\n",
    "print(x)\n",
    "print('-------------------------')"
   ]
  },
  {
   "cell_type": "code",
   "execution_count": 22,
   "id": "1fc6c92f",
   "metadata": {},
   "outputs": [
    {
     "name": "stdout",
     "output_type": "stream",
     "text": [
      "[[ 1  0  0  0  0]\n",
      " [ 1  1  1  1  1]\n",
      " [ 1  2  4  8 16]\n",
      " [ 1  3  9 27 81]]\n",
      "-------------------------\n"
     ]
    }
   ],
   "source": [
    "def powers(i,j):\n",
    "    i = i**j\n",
    "    return i\n",
    "x = fromfunction(powers, (4,5), dtype=int)\n",
    "print(x)\n",
    "print('-------------------------')"
   ]
  },
  {
   "cell_type": "code",
   "execution_count": 23,
   "id": "246df611",
   "metadata": {},
   "outputs": [
    {
     "name": "stdout",
     "output_type": "stream",
     "text": [
      "[ True False False False False  True False False False False  True False\n",
      " False False False  True False False False False]\n",
      "-------------------------\n"
     ]
    }
   ],
   "source": [
    "m,n = 20, 5\n",
    "def f(i):\n",
    "    return (i % n == 0)\n",
    "x = fromfunction(f, (m,), dtype=int)\n",
    "print(x)\n",
    "print('-------------------------')"
   ]
  }
 ],
 "metadata": {
  "kernelspec": {
   "display_name": "Python 3 (ipykernel)",
   "language": "python",
   "name": "python3"
  },
  "language_info": {
   "codemirror_mode": {
    "name": "ipython",
    "version": 3
   },
   "file_extension": ".py",
   "mimetype": "text/x-python",
   "name": "python",
   "nbconvert_exporter": "python",
   "pygments_lexer": "ipython3",
   "version": "3.11.5"
  }
 },
 "nbformat": 4,
 "nbformat_minor": 5
}
